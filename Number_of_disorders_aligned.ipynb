{
 "cells": [
  {
   "cell_type": "code",
   "execution_count": 1,
   "metadata": {},
   "outputs": [],
   "source": [
    "### NUMBER OF DISORDERS ALIGNED\n",
    "\n",
    "\n",
    "# We set the folder\n",
    "folder=(source(\"Folder.R\"))$value\n",
    "\n",
    "\n",
    "# INPUTS : \"product1_en_cross_jdbor_evo.xml\".\n",
    "\n",
    "\n",
    "# OUTPUTS : \"number_aligned_disorders_with_OMIM_or_OCD10\"; \"percentage_aligned_disorders_with_OMIM_or_OCD10\";\n",
    "# \"number_aligned_disorders_with_OMIM\"; \"percentage_aligned_disorders_with_OMIM\";\n",
    "# \"number_aligned_disorders_with_ICD10\"; \"percentage_aligned_disorders_with_ICD10\";\n",
    "# \"number_OMIM_aligned_by_exact_relationship\"; \"percentage_OMIM_aligned_by_exact_relationship\";\n",
    "# \"number_ICD10_aligned_by_exact_relationship\"; \"percentage_ICD10_aligned_by_exact_relationship\"."
   ]
  },
  {
   "cell_type": "code",
   "execution_count": 2,
   "metadata": {},
   "outputs": [
    {
     "name": "stderr",
     "output_type": "stream",
     "text": [
      "Installing package into 'C:/Users/ohongnat/Documents/R/win-library/3.6'\n",
      "(as 'lib' is unspecified)\n"
     ]
    },
    {
     "name": "stdout",
     "output_type": "stream",
     "text": [
      "package 'tidyverse' successfully unpacked and MD5 sums checked\n",
      "\n",
      "The downloaded binary packages are in\n",
      "\tC:\\Users\\ohongnat\\AppData\\Local\\Temp\\RtmpCckzlQ\\downloaded_packages\n"
     ]
    },
    {
     "name": "stderr",
     "output_type": "stream",
     "text": [
      "Installing package into 'C:/Users/ohongnat/Documents/R/win-library/3.6'\n",
      "(as 'lib' is unspecified)\n"
     ]
    },
    {
     "name": "stdout",
     "output_type": "stream",
     "text": [
      "package 'rlist' successfully unpacked and MD5 sums checked\n",
      "\n",
      "The downloaded binary packages are in\n",
      "\tC:\\Users\\ohongnat\\AppData\\Local\\Temp\\RtmpCckzlQ\\downloaded_packages\n"
     ]
    },
    {
     "name": "stderr",
     "output_type": "stream",
     "text": [
      "Installing package into 'C:/Users/ohongnat/Documents/R/win-library/3.6'\n",
      "(as 'lib' is unspecified)\n"
     ]
    },
    {
     "name": "stdout",
     "output_type": "stream",
     "text": [
      "package 'data.table' successfully unpacked and MD5 sums checked\n"
     ]
    },
    {
     "name": "stderr",
     "output_type": "stream",
     "text": [
      "Warning message:\n",
      "\"cannot remove prior installation of package 'data.table'\"Warning message in file.copy(savedcopy, lib, recursive = TRUE):\n",
      "\"problème lors de la copie de C:\\Users\\ohongnat\\Documents\\R\\win-library\\3.6\\00LOCK\\data.table\\libs\\x64\\datatable.dll vers C:\\Users\\ohongnat\\Documents\\R\\win-library\\3.6\\data.table\\libs\\x64\\datatable.dll: Permission denied\"Warning message:\n",
      "\"restored 'data.table'\""
     ]
    },
    {
     "name": "stdout",
     "output_type": "stream",
     "text": [
      "\n",
      "The downloaded binary packages are in\n",
      "\tC:\\Users\\ohongnat\\AppData\\Local\\Temp\\RtmpCckzlQ\\downloaded_packages\n"
     ]
    },
    {
     "name": "stderr",
     "output_type": "stream",
     "text": [
      "Installing package into 'C:/Users/ohongnat/Documents/R/win-library/3.6'\n",
      "(as 'lib' is unspecified)\n"
     ]
    },
    {
     "name": "stdout",
     "output_type": "stream",
     "text": [
      "\n",
      "  There is a binary version available but the source version is later:\n",
      "      binary source needs_compilation\n",
      "dplyr  1.0.5  1.0.6              TRUE\n",
      "\n",
      "  Binaries will be installed\n",
      "package 'dplyr' successfully unpacked and MD5 sums checked\n"
     ]
    },
    {
     "name": "stderr",
     "output_type": "stream",
     "text": [
      "Warning message:\n",
      "\"cannot remove prior installation of package 'dplyr'\"Warning message in file.copy(savedcopy, lib, recursive = TRUE):\n",
      "\"problème lors de la copie de C:\\Users\\ohongnat\\Documents\\R\\win-library\\3.6\\00LOCK\\dplyr\\libs\\x64\\dplyr.dll vers C:\\Users\\ohongnat\\Documents\\R\\win-library\\3.6\\dplyr\\libs\\x64\\dplyr.dll: Permission denied\"Warning message:\n",
      "\"restored 'dplyr'\""
     ]
    },
    {
     "name": "stdout",
     "output_type": "stream",
     "text": [
      "\n",
      "The downloaded binary packages are in\n",
      "\tC:\\Users\\ohongnat\\AppData\\Local\\Temp\\RtmpCckzlQ\\downloaded_packages\n"
     ]
    },
    {
     "name": "stderr",
     "output_type": "stream",
     "text": [
      "Installing package into 'C:/Users/ohongnat/Documents/R/win-library/3.6'\n",
      "(as 'lib' is unspecified)\n"
     ]
    },
    {
     "name": "stdout",
     "output_type": "stream",
     "text": [
      "package 'XML' successfully unpacked and MD5 sums checked\n"
     ]
    },
    {
     "name": "stderr",
     "output_type": "stream",
     "text": [
      "Warning message:\n",
      "\"cannot remove prior installation of package 'XML'\"Warning message in file.copy(savedcopy, lib, recursive = TRUE):\n",
      "\"problème lors de la copie de C:\\Users\\ohongnat\\Documents\\R\\win-library\\3.6\\00LOCK\\XML\\libs\\x64\\XML.dll vers C:\\Users\\ohongnat\\Documents\\R\\win-library\\3.6\\XML\\libs\\x64\\XML.dll: Permission denied\"Warning message:\n",
      "\"restored 'XML'\""
     ]
    },
    {
     "name": "stdout",
     "output_type": "stream",
     "text": [
      "\n",
      "The downloaded binary packages are in\n",
      "\tC:\\Users\\ohongnat\\AppData\\Local\\Temp\\RtmpCckzlQ\\downloaded_packages\n"
     ]
    },
    {
     "name": "stderr",
     "output_type": "stream",
     "text": [
      "Installing package into 'C:/Users/ohongnat/Documents/R/win-library/3.6'\n",
      "(as 'lib' is unspecified)\n",
      "Warning message:\n",
      "\"package 'methods' is not available (for R version 3.6.1)\"Warning message:\n",
      "\"package 'methods' is a base package, and should not be updated\"Warning message:\n",
      "\"package 'tidyverse' was built under R version 3.6.3\"-- \u001b[1mAttaching packages\u001b[22m ------------------------------------------------------------------------------- tidyverse 1.3.1 --\n",
      "\u001b[32mv\u001b[39m \u001b[34mggplot2\u001b[39m 3.3.3     \u001b[32mv\u001b[39m \u001b[34mpurrr  \u001b[39m 0.3.4\n",
      "\u001b[32mv\u001b[39m \u001b[34mtibble \u001b[39m 3.1.0     \u001b[32mv\u001b[39m \u001b[34mdplyr  \u001b[39m 1.0.5\n",
      "\u001b[32mv\u001b[39m \u001b[34mtidyr  \u001b[39m 1.1.3     \u001b[32mv\u001b[39m \u001b[34mstringr\u001b[39m 1.4.0\n",
      "\u001b[32mv\u001b[39m \u001b[34mreadr  \u001b[39m 1.4.0     \u001b[32mv\u001b[39m \u001b[34mforcats\u001b[39m 0.5.1\n",
      "Warning message:\n",
      "\"package 'ggplot2' was built under R version 3.6.3\"Warning message:\n",
      "\"package 'tibble' was built under R version 3.6.3\"Warning message:\n",
      "\"package 'tidyr' was built under R version 3.6.3\"Warning message:\n",
      "\"package 'readr' was built under R version 3.6.3\"Warning message:\n",
      "\"package 'purrr' was built under R version 3.6.3\"Warning message:\n",
      "\"package 'dplyr' was built under R version 3.6.3\"Warning message:\n",
      "\"package 'stringr' was built under R version 3.6.3\"Warning message:\n",
      "\"package 'forcats' was built under R version 3.6.3\"-- \u001b[1mConflicts\u001b[22m ---------------------------------------------------------------------------------- tidyverse_conflicts() --\n",
      "\u001b[31mx\u001b[39m \u001b[34mdplyr\u001b[39m::\u001b[32mfilter()\u001b[39m masks \u001b[34mstats\u001b[39m::filter()\n",
      "\u001b[31mx\u001b[39m \u001b[34mdplyr\u001b[39m::\u001b[32mlag()\u001b[39m    masks \u001b[34mstats\u001b[39m::lag()\n",
      "Warning message:\n",
      "\"package 'rlist' was built under R version 3.6.3\"Warning message:\n",
      "\"package 'data.table' was built under R version 3.6.3\"\n",
      "Attaching package: 'data.table'\n",
      "\n",
      "The following objects are masked from 'package:dplyr':\n",
      "\n",
      "    between, first, last\n",
      "\n",
      "The following object is masked from 'package:purrr':\n",
      "\n",
      "    transpose\n",
      "\n",
      "Warning message:\n",
      "\"package 'XML' was built under R version 3.6.3\""
     ]
    }
   ],
   "source": [
    "# Packages\n",
    "install.packages('tidyverse')\n",
    "install.packages('rlist')\n",
    "install.packages('data.table')\n",
    "install.packages('dplyr')\n",
    "install.packages('XML')\n",
    "install.packages('methods')\n",
    "\n",
    "\n",
    "# Libraries\n",
    "library(tidyverse)\n",
    "library(rlist)\n",
    "library(data.table)\n",
    "library(dplyr)\n",
    "library(XML)\n",
    "library(methods)"
   ]
  },
  {
   "cell_type": "code",
   "execution_count": 3,
   "metadata": {},
   "outputs": [],
   "source": [
    "# We open xml \"product1_en_cross_jdbor_evo\"\n",
    "product1 <- xmlParse(paste(folder,\"product1_en_cross_jdbor_evo.xml\",sep=\"/\"))\n",
    "product1=xmlToList(product1)\n",
    "\n",
    "# We remove the last element of the list, which is the numeric count of all elements of the list\n",
    "product1=product1$DisorderList\n",
    "product1=product1[-length(product1)]\n",
    "\n",
    "### Our list for working\n",
    "indice_list=1\n",
    "product=list()\n",
    "for (i in 1:length(product1))\n",
    "{\n",
    "  product[[indice_list]]=product1[[i]]\n",
    "  indice_list=indice_list+1\n",
    "}\n",
    "# Each element in the list is a disorder"
   ]
  },
  {
   "cell_type": "code",
   "execution_count": 4,
   "metadata": {},
   "outputs": [],
   "source": [
    "# We only select the active clinical entities:\n",
    "# Head of classification (flag=128), Historical entities (flag=512) & On-line (flag=1)\n",
    "indice_list=1\n",
    "all_active_clinical_entities=list()\n",
    "for (i in 1:length(product))\n",
    "  if (product[[i]]$DisorderFlagList$DisorderFlag$Value=='1' |\n",
    "      product[[i]]$DisorderFlagList$DisorderFlag$Value=='128' |\n",
    "      product[[i]]$DisorderFlagList$DisorderFlag$Value=='512')\n",
    "  {\n",
    "    all_active_clinical_entities[[indice_list]]=product[[i]]\n",
    "    indice_list=indice_list+1\n",
    "  }"
   ]
  },
  {
   "cell_type": "code",
   "execution_count": 5,
   "metadata": {},
   "outputs": [],
   "source": [
    "# We only select the disorders between the active clinical entities\n",
    "indice_list=1\n",
    "disorders=list()\n",
    "for (i in 1:length(all_active_clinical_entities))\n",
    "  if (all_active_clinical_entities[[i]]$DisorderGroup$Name$text=='Disorder')\n",
    "  {\n",
    "    disorders[[indice_list]]=all_active_clinical_entities[[i]]\n",
    "    indice_list=indice_list+1\n",
    "  }\n",
    "number_disorders=length(disorders)"
   ]
  },
  {
   "cell_type": "code",
   "execution_count": 6,
   "metadata": {},
   "outputs": [],
   "source": [
    "# We get all the disorders that are aligned\n",
    "indice_list=1\n",
    "aligned_disorders=list()\n",
    "for (i in 1:length(disorders))\n",
    "  if (!is.null(disorders[[i]]$ExternalReferenceList$ExternalReference$.attrs))\n",
    "  {\n",
    "    aligned_disorders[[indice_list]]=disorders[[i]]\n",
    "    indice_list=indice_list+1\n",
    "  }"
   ]
  },
  {
   "cell_type": "code",
   "execution_count": 7,
   "metadata": {},
   "outputs": [],
   "source": [
    "### We want the disorders aligned with at least one OMIM or ICD-10 \n",
    "indice_list=1\n",
    "aligned_disorders_with_OMIM_or_OCD10=list()\n",
    "for (i in 1:length(aligned_disorders))\n",
    "  for (j in 1:(length(aligned_disorders[[i]]$ExternalReferenceList)-1))\n",
    "    if (aligned_disorders[[i]]$ExternalReferenceList[[j]]$Source=='ICD-10' |\n",
    "        aligned_disorders[[i]]$ExternalReferenceList[[j]]$Source=='OMIM')\n",
    "    {\n",
    "      aligned_disorders_with_OMIM_or_OCD10[[indice_list]]=data.frame(aligned_disorders[[i]]$OrphaCode)\n",
    "      indice_list=indice_list+1\n",
    "    }\n",
    "aligned_disorders_with_OMIM_or_OCD10=rbindlist(aligned_disorders_with_OMIM_or_OCD10)\n",
    "\n",
    "# We remove duplicates\n",
    "aligned_disorders_with_OMIM_or_OCD10=aligned_disorders_with_OMIM_or_OCD10[!duplicated(aligned_disorders_with_OMIM_or_OCD10)]"
   ]
  },
  {
   "cell_type": "code",
   "execution_count": 8,
   "metadata": {},
   "outputs": [
    {
     "data": {
      "text/html": [
       "5720"
      ],
      "text/latex": [
       "5720"
      ],
      "text/markdown": [
       "5720"
      ],
      "text/plain": [
       "[1] 5720"
      ]
     },
     "metadata": {},
     "output_type": "display_data"
    }
   ],
   "source": [
    "# Number of disorders with at least one OMIM or ICD-10 aligned\n",
    "number_aligned_disorders_with_OMIM_or_OCD10=nrow(aligned_disorders_with_OMIM_or_OCD10)\n",
    "number_aligned_disorders_with_OMIM_or_OCD10"
   ]
  },
  {
   "cell_type": "code",
   "execution_count": 9,
   "metadata": {},
   "outputs": [
    {
     "data": {
      "text/html": [
       "92.751743149019"
      ],
      "text/latex": [
       "92.751743149019"
      ],
      "text/markdown": [
       "92.751743149019"
      ],
      "text/plain": [
       "[1] 92.75174"
      ]
     },
     "metadata": {},
     "output_type": "display_data"
    }
   ],
   "source": [
    "# Percentage of disorders with at least one OMIM or ICD-10 aligned\n",
    "percentage_aligned_disorders_with_OMIM_or_OCD10=number_aligned_disorders_with_OMIM_or_OCD10/number_disorders*100\n",
    "percentage_aligned_disorders_with_OMIM_or_OCD10"
   ]
  },
  {
   "cell_type": "code",
   "execution_count": 10,
   "metadata": {},
   "outputs": [],
   "source": [
    "### We want the disorders aligned with at least one OMIM \n",
    "indice_list=1\n",
    "aligned_disorders_with_OMIM=list()\n",
    "for (i in 1:length(aligned_disorders))\n",
    "  for (j in 1:(length(aligned_disorders[[i]]$ExternalReferenceList)-1))\n",
    "    if (aligned_disorders[[i]]$ExternalReferenceList[[j]]$Source=='OMIM')\n",
    "    {\n",
    "      aligned_disorders_with_OMIM[[indice_list]]=data.frame(aligned_disorders[[i]]$OrphaCode)\n",
    "      indice_list=indice_list+1\n",
    "    }\n",
    "aligned_disorders_with_OMIM=rbindlist(aligned_disorders_with_OMIM)\n",
    "\n",
    "# We remove duplicates\n",
    "aligned_disorders_with_OMIM=aligned_disorders_with_OMIM[!duplicated(aligned_disorders_with_OMIM)]"
   ]
  },
  {
   "cell_type": "code",
   "execution_count": 11,
   "metadata": {},
   "outputs": [
    {
     "data": {
      "text/html": [
       "3894"
      ],
      "text/latex": [
       "3894"
      ],
      "text/markdown": [
       "3894"
      ],
      "text/plain": [
       "[1] 3894"
      ]
     },
     "metadata": {},
     "output_type": "display_data"
    }
   ],
   "source": [
    "# Number of disorders with at least one OMIM\n",
    "number_aligned_disorders_with_OMIM=nrow(aligned_disorders_with_OMIM)\n",
    "number_aligned_disorders_with_OMIM"
   ]
  },
  {
   "cell_type": "code",
   "execution_count": 12,
   "metadata": {},
   "outputs": [
    {
     "data": {
      "text/html": [
       "63.1425328360629"
      ],
      "text/latex": [
       "63.1425328360629"
      ],
      "text/markdown": [
       "63.1425328360629"
      ],
      "text/plain": [
       "[1] 63.14253"
      ]
     },
     "metadata": {},
     "output_type": "display_data"
    }
   ],
   "source": [
    "# Percentage of disorders with at least one OMIM\n",
    "percentage_aligned_disorders_with_OMIM=number_aligned_disorders_with_OMIM/number_disorders*100\n",
    "percentage_aligned_disorders_with_OMIM"
   ]
  },
  {
   "cell_type": "code",
   "execution_count": 13,
   "metadata": {},
   "outputs": [],
   "source": [
    "### We want the disorders aligned with at least one OMIM by an Exact relationship\n",
    "indice_list=1\n",
    "OMIM_aligned_by_exact_relationship=list()\n",
    "for (i in 1:length(aligned_disorders))\n",
    "  for (j in 1:(length(aligned_disorders[[i]]$ExternalReferenceList)-1))\n",
    "    if (aligned_disorders[[i]]$ExternalReferenceList[[j]]$Source=='OMIM' &\n",
    "        aligned_disorders[[i]]$ExternalReferenceList[[j]]$DisorderMappingRelation$Name$text=='E (Exact mapping: the two concepts are equivalent)')\n",
    "    {\n",
    "      OMIM_aligned_by_exact_relationship[[indice_list]]=data.frame(aligned_disorders[[i]]$OrphaCode)\n",
    "      indice_list=indice_list+1\n",
    "    }\n",
    "OMIM_aligned_by_exact_relationship=rbindlist(OMIM_aligned_by_exact_relationship)\n",
    "\n",
    "# We delete duplicates\n",
    "OMIM_aligned_by_exact_relationship=OMIM_aligned_by_exact_relationship[!duplicated(OMIM_aligned_by_exact_relationship)]"
   ]
  },
  {
   "cell_type": "code",
   "execution_count": 14,
   "metadata": {},
   "outputs": [
    {
     "data": {
      "text/html": [
       "3206"
      ],
      "text/latex": [
       "3206"
      ],
      "text/markdown": [
       "3206"
      ],
      "text/plain": [
       "[1] 3206"
      ]
     },
     "metadata": {},
     "output_type": "display_data"
    }
   ],
   "source": [
    "# Number of disorders aligned with at least one OMIM by an Exact relationship\n",
    "number_OMIM_aligned_by_exact_relationship=nrow(OMIM_aligned_by_exact_relationship)\n",
    "number_OMIM_aligned_by_exact_relationship"
   ]
  },
  {
   "cell_type": "code",
   "execution_count": 15,
   "metadata": {},
   "outputs": [
    {
     "data": {
      "text/html": [
       "51.9863791146425"
      ],
      "text/latex": [
       "51.9863791146425"
      ],
      "text/markdown": [
       "51.9863791146425"
      ],
      "text/plain": [
       "[1] 51.98638"
      ]
     },
     "metadata": {},
     "output_type": "display_data"
    }
   ],
   "source": [
    "# Percentage of disorders aligned with at least one OMIM by an Exact relationship\n",
    "percentage_OMIM_aligned_by_exact_relationship=number_OMIM_aligned_by_exact_relationship/number_disorders*100\n",
    "percentage_OMIM_aligned_by_exact_relationship"
   ]
  },
  {
   "cell_type": "code",
   "execution_count": 16,
   "metadata": {},
   "outputs": [],
   "source": [
    "### We want the disorders aligned with at least one ICD-10\n",
    "indice_list=1\n",
    "aligned_disorders_with_ICD10=list()\n",
    "for (i in 1:length(aligned_disorders))\n",
    "  for (j in 1:(length(aligned_disorders[[i]]$ExternalReferenceList)-1))\n",
    "    if (aligned_disorders[[i]]$ExternalReferenceList[[j]]$Source=='ICD-10')\n",
    "    {\n",
    "      aligned_disorders_with_ICD10[[indice_list]]=data.frame(aligned_disorders[[i]]$OrphaCode)\n",
    "      indice_list=indice_list+1\n",
    "    }\n",
    "aligned_disorders_with_ICD10=rbindlist(aligned_disorders_with_ICD10)\n",
    "\n",
    "# We remove duplicates\n",
    "aligned_disorders_with_ICD10=aligned_disorders_with_ICD10[!duplicated(aligned_disorders_with_ICD10)]"
   ]
  },
  {
   "cell_type": "code",
   "execution_count": 17,
   "metadata": {},
   "outputs": [
    {
     "data": {
      "text/html": [
       "5252"
      ],
      "text/latex": [
       "5252"
      ],
      "text/markdown": [
       "5252"
      ],
      "text/plain": [
       "[1] 5252"
      ]
     },
     "metadata": {},
     "output_type": "display_data"
    }
   ],
   "source": [
    "# Number of disorders aligned with at least one ICD-10\n",
    "number_aligned_disorders_with_ICD10=nrow(aligned_disorders_with_ICD10)\n",
    "number_aligned_disorders_with_ICD10"
   ]
  },
  {
   "cell_type": "code",
   "execution_count": 18,
   "metadata": {},
   "outputs": [
    {
     "data": {
      "text/html": [
       "85.1629641640992"
      ],
      "text/latex": [
       "85.1629641640992"
      ],
      "text/markdown": [
       "85.1629641640992"
      ],
      "text/plain": [
       "[1] 85.16296"
      ]
     },
     "metadata": {},
     "output_type": "display_data"
    }
   ],
   "source": [
    "# Percentage of disorders aligned with at least one ICD-10\n",
    "percentage_aligned_disorders_with_ICD10=number_aligned_disorders_with_ICD10/number_disorders*100\n",
    "percentage_aligned_disorders_with_ICD10"
   ]
  },
  {
   "cell_type": "code",
   "execution_count": 19,
   "metadata": {},
   "outputs": [],
   "source": [
    "### We want the disorders aligned with at least one ICD-10 by an Exact relationship\n",
    "indice_list=1\n",
    "ICD10_aligned_by_exact_relationship=list()\n",
    "for (i in 1:length(aligned_disorders))\n",
    "  for (j in 1:(length(aligned_disorders[[i]]$ExternalReferenceList)-1))\n",
    "    if (aligned_disorders[[i]]$ExternalReferenceList[[j]]$Source=='ICD-10' &\n",
    "        aligned_disorders[[i]]$ExternalReferenceList[[j]]$DisorderMappingRelation$Name$text=='E (Exact mapping: the two concepts are equivalent)')\n",
    "    {\n",
    "      ICD10_aligned_by_exact_relationship[[indice_list]]=data.frame(aligned_disorders[[i]]$OrphaCode)\n",
    "      indice_list=indice_list+1\n",
    "    }\n",
    "ICD10_aligned_by_exact_relationship=rbindlist(ICD10_aligned_by_exact_relationship)\n",
    "\n",
    "# We delete duplicates\n",
    "ICD10_aligned_by_exact_relationship=ICD10_aligned_by_exact_relationship[!duplicated(ICD10_aligned_by_exact_relationship)]"
   ]
  },
  {
   "cell_type": "code",
   "execution_count": 20,
   "metadata": {},
   "outputs": [
    {
     "data": {
      "text/html": [
       "413"
      ],
      "text/latex": [
       "413"
      ],
      "text/markdown": [
       "413"
      ],
      "text/plain": [
       "[1] 413"
      ]
     },
     "metadata": {},
     "output_type": "display_data"
    }
   ],
   "source": [
    "# Number of disorders aligned with at least one ICD-10 by an Exact relationship\n",
    "number_ICD10_aligned_by_exact_relationship=nrow(ICD10_aligned_by_exact_relationship)\n",
    "number_ICD10_aligned_by_exact_relationship"
   ]
  },
  {
   "cell_type": "code",
   "execution_count": 21,
   "metadata": {},
   "outputs": [
    {
     "data": {
      "text/html": [
       "6.69693530079455"
      ],
      "text/latex": [
       "6.69693530079455"
      ],
      "text/markdown": [
       "6.69693530079455"
      ],
      "text/plain": [
       "[1] 6.696935"
      ]
     },
     "metadata": {},
     "output_type": "display_data"
    }
   ],
   "source": [
    "# Percentage of disorders aligned with at least one ICD-10 by an Exact relationship\n",
    "percentage_ICD10_aligned_by_exact_relationship=number_ICD10_aligned_by_exact_relationship/number_disorders*100\n",
    "percentage_ICD10_aligned_by_exact_relationship"
   ]
  }
 ],
 "metadata": {
  "kernelspec": {
   "display_name": "R",
   "language": "R",
   "name": "ir"
  },
  "language_info": {
   "codemirror_mode": "r",
   "file_extension": ".r",
   "mimetype": "text/x-r-source",
   "name": "R",
   "pygments_lexer": "r",
   "version": "3.6.1"
  }
 },
 "nbformat": 4,
 "nbformat_minor": 4
}
